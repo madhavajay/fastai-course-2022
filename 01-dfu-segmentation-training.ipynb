{
 "cells": [
  {
   "cell_type": "code",
   "execution_count": 1,
   "id": "b3e03111-50f1-4bad-b2d0-234c6c90c9eb",
   "metadata": {},
   "outputs": [],
   "source": [
    "# Diabetic Foot Ulcer Segmentation"
   ]
  },
  {
   "cell_type": "code",
   "execution_count": 2,
   "id": "15ca1954",
   "metadata": {},
   "outputs": [],
   "source": [
    "# lets get the data from here:\n",
    "# https://github.com/uwm-bigdata/wound-segmentation/tree/master/data/Foot%20Ulcer%20Segmentation%20Challenge"
   ]
  },
  {
   "cell_type": "code",
   "execution_count": 3,
   "id": "a1a7f541",
   "metadata": {},
   "outputs": [],
   "source": [
    "import os\n",
    "from dataclasses import dataclass\n",
    "from datetime import datetime\n",
    "from pathlib import Path\n",
    "from typing import Any, Callable, KeysView, List, Optional, Tuple, Union\n",
    "\n",
    "import git\n",
    "import matplotlib.pyplot as plt\n",
    "import numpy as np\n",
    "import PIL\n",
    "from PIL.Image import Image\n",
    "import torch as th\n",
    "import torchvision\n",
    "\n",
    "from fastai.callback.progress import ProgressCallback\n",
    "from fastai.callback.schedule import lr_find, slide, valley\n",
    "from fastai.callback.tracker import EarlyStoppingCallback, ReduceLROnPlateau, SaveModelCallback\n",
    "from fastai.data.block import DataBlock\n",
    "from fastai.data.core import DataLoaders\n",
    "from fastai.data.transforms import FuncSplitter, IntToFloatTensor, get_image_files\n",
    "from fastai.layers import Mish\n",
    "from fastai.learner import Learner\n",
    "from fastai.metrics import Dice\n",
    "from fastai.optimizer import ranger\n",
    "from fastai.vision.augment import aug_transforms\n",
    "from fastai.vision.data import ImageBlock, MaskBlock\n",
    "from fastai.vision.learner import unet_learner"
   ]
  },
  {
   "cell_type": "code",
   "execution_count": 4,
   "id": "0e67bb66",
   "metadata": {},
   "outputs": [],
   "source": [
    "def download_data(data_dir):\n",
    "    git.Git(data_dir).clone(\"https://github.com/uwm-bigdata/wound-segmentation\")"
   ]
  },
  {
   "cell_type": "code",
   "execution_count": 5,
   "id": "0700fd3f",
   "metadata": {},
   "outputs": [],
   "source": [
    "def get_data_dir() -> Path:\n",
    "    data_dir = Path(\"../data\")\n",
    "\n",
    "    if not os.path.exists(data_dir):\n",
    "        os.makedirs(data_dir, exist_ok=True)\n",
    "    \n",
    "    if \"wound-segmentation\" not in os.listdir(data_dir):\n",
    "        download_data(data_dir)\n",
    "        \n",
    "    dfu_dataset_path = data_dir / \"wound-segmentation\" / \"data\" / \"Foot Ulcer Segmentation Challenge\"\n",
    "    return dfu_dataset_path"
   ]
  },
  {
   "cell_type": "code",
   "execution_count": 6,
   "id": "ea5839af",
   "metadata": {},
   "outputs": [],
   "source": [
    "def get_all_data(dfu_dataset_path: str) -> Callable:\n",
    "    train_path = dfu_dataset_path / \"train\"\n",
    "    train_image_path = train_path / \"images\"\n",
    "    val_path = dfu_dataset_path / \"validation\"\n",
    "    val_image_path = val_path / \"images\"\n",
    "    train_images = get_image_files(train_image_path)\n",
    "    val_images = get_image_files(val_image_path)\n",
    "    trainval = train_images + val_images\n",
    "    def all_data(path) -> List[Path]:\n",
    "        return trainval\n",
    "    return all_data"
   ]
  },
  {
   "cell_type": "code",
   "execution_count": 7,
   "id": "23aa29a2",
   "metadata": {},
   "outputs": [],
   "source": [
    "def get_datablock(codes: List[str], get_data: Callable, batch_tfms: Optional[List] = None) -> DataBlock:\n",
    "    def is_valid() -> Callable:\n",
    "        def _func(x): return \"/validation/\" in str(x)\n",
    "        def _inner(o, **kwargs): return FuncSplitter(_func)(o)\n",
    "        return _inner\n",
    "    \n",
    "    get_msk = lambda o: o.parent.parent / 'labels' / f'{o.stem}{o.suffix}'\n",
    "\n",
    "    transforms = list(batch_tfms) if batch_tfms else []\n",
    "    transforms.append(IntToFloatTensor(div_mask=255))\n",
    "                               \n",
    "    return DataBlock(\n",
    "        blocks=(ImageBlock, MaskBlock(codes)),\n",
    "        get_items=get_data,\n",
    "        splitter=is_valid(),\n",
    "        get_y=get_msk,\n",
    "        batch_tfms=transforms\n",
    "    )"
   ]
  },
  {
   "cell_type": "code",
   "execution_count": 8,
   "id": "87d044cf",
   "metadata": {},
   "outputs": [],
   "source": [
    "def get_dataloader(codes: List[str], datablock: DataBlock, batch_size: int = 1) -> DataLoaders:\n",
    "    datablock = datablock.dataloaders(None, bs=batch_size)\n",
    "    datablock.vocab = codes\n",
    "    return datablock"
   ]
  },
  {
   "cell_type": "code",
   "execution_count": 9,
   "id": "7ed92482",
   "metadata": {},
   "outputs": [],
   "source": [
    "def get_learner(dataloader: DataLoaders, backbone: Union[str, Callable], metrics: Optional[List] = None,\n",
    "                weights_path: Optional[str] = None, optimizer: Optional[Callable] = None):\n",
    "    learner = unet_learner(dataloader, backbone, metrics=metrics, self_attention=True, act_cls=Mish, opt_func=optimizer)\n",
    "    if weights_path:\n",
    "        learner.load(weights_path)\n",
    "    return learner"
   ]
  },
  {
   "cell_type": "code",
   "execution_count": 10,
   "id": "f3323b44",
   "metadata": {},
   "outputs": [],
   "source": [
    "def decode_preds(preds) -> np.ndarray:\n",
    "    pred = preds[0][0]\n",
    "    pred_arx = pred.argmax(dim=0)\n",
    "    image = (pred_arx.numpy() * 255).astype(np.uint8)\n",
    "    return image"
   ]
  },
  {
   "cell_type": "code",
   "execution_count": 11,
   "id": "88eae46c",
   "metadata": {},
   "outputs": [],
   "source": [
    "def predict(image_path, learner) -> np.ndarray:\n",
    "    dl = learner.dls.test_dl([image_path])\n",
    "    preds = learner.get_preds(dl=dl)\n",
    "    return decode_preds(preds)"
   ]
  },
  {
   "cell_type": "code",
   "execution_count": 12,
   "id": "ef32e150-4a9f-4536-83f6-e2013dc21dc5",
   "metadata": {},
   "outputs": [],
   "source": [
    "def load_model_inference(data: Callable, backbone: Union[str, Callable], weights_path: str, **kwargs) -> Learner:\n",
    "    return load_model(data=data, backbone=backbone, weights_path=weights_path)"
   ]
  },
  {
   "cell_type": "code",
   "execution_count": 13,
   "id": "d90fbb02-0642-44c7-b6ee-523ccdd70c38",
   "metadata": {},
   "outputs": [],
   "source": [
    "def load_model_training(data: Callable, batch_size: int, backbone: Union[str, Callable], metrics: List, optimizer: Callable,\n",
    "                        batch_tfms: Optional[List] = None, weights_path: Optional[str] = None, **kwargs) -> Learner:\n",
    "    return load_model(data=data, batch_size=batch_size, backbone=backbone, metrics=metrics, optimizer=optimizer, weights_path=weights_path)"
   ]
  },
  {
   "cell_type": "code",
   "execution_count": 14,
   "id": "f59e3444",
   "metadata": {},
   "outputs": [],
   "source": [
    "def load_model(data: Callable, batch_size: int = 1, backbone = Union[str, Callable], metrics: Optional[List] = None,\n",
    "               optimizer: Optional[Callable] = None, weights_path: Optional[str] = None, batch_tfms: Optional[List] = None) -> Learner:\n",
    "    codes = [\"Void\", \"Wound\"]\n",
    "    datablock = get_datablock(codes=codes, get_data=data, batch_tfms=batch_tfms)\n",
    "    dataloader = get_dataloader(codes=codes, datablock=datablock, batch_size=batch_size)\n",
    "    model = get_learner(dataloader=dataloader, backbone=backbone, metrics=metrics, weights_path=weights_path, optimizer=optimizer)\n",
    "    return model"
   ]
  },
  {
   "cell_type": "code",
   "execution_count": 15,
   "id": "c46ce4ac",
   "metadata": {},
   "outputs": [],
   "source": [
    "def load_image(path: Union[os.PathLike, Any]) -> Any:\n",
    "    if isinstance(path, Image):\n",
    "        return path\n",
    "    elif isinstance(path, os.PathLike):\n",
    "        img = PIL.Image.open(path)\n",
    "    else:\n",
    "        img = PIL.Image.fromarray(path)\n",
    "\n",
    "    return img.convert(\"RGBA\")"
   ]
  },
  {
   "cell_type": "code",
   "execution_count": 16,
   "id": "d04e4f12",
   "metadata": {},
   "outputs": [],
   "source": [
    "def plot_all(source: Union[str, Image], mask: Image):\n",
    "    source_img = load_image(source)\n",
    "    mask_img = load_image(mask)\n",
    "    combined = PIL.ImageChops.multiply(source_img, mask_img)\n",
    "    f, axarr = plt.subplots(1,3, figsize=(20,20))\n",
    "    axarr[0].imshow(source_img)\n",
    "    axarr[1].imshow(mask_img)\n",
    "    axarr[2].imshow(combined)\n",
    "    plt.show()"
   ]
  },
  {
   "cell_type": "code",
   "execution_count": 17,
   "id": "6402050f-f218-44f9-9243-c2b341500b72",
   "metadata": {},
   "outputs": [],
   "source": [
    "def get_metrics(void_code: int = 0) -> List:\n",
    "    def acc_dfu(inp, targ):\n",
    "        targ = targ.squeeze(1)\n",
    "        mask = targ != void_code\n",
    "        result = (inp.argmax(dim=1)[mask]==targ[mask]).float().mean()\n",
    "        return result.nan_to_num()\n",
    "    return [acc_dfu, Dice]"
   ]
  },
  {
   "cell_type": "code",
   "execution_count": 18,
   "id": "e17bd326-9938-48ac-a6dc-dea726160dc6",
   "metadata": {},
   "outputs": [],
   "source": [
    "@dataclass\n",
    "class Experiment:\n",
    "    data: Callable\n",
    "    backbone: Union[str, Callable]\n",
    "    optimizer: Callable\n",
    "    weights_path: Optional[str]\n",
    "    input_size: int\n",
    "    batch_size: int\n",
    "    batch_tfms: List\n",
    "    metrics: List[Callable]\n",
    "\n",
    "    @property\n",
    "    def name(self) -> str:\n",
    "        return f\"{self.today}-{self.backbone.__name__}-{self.input_size}-{self.optimizer.__name__}\"\n",
    "    \n",
    "    @property\n",
    "    def today(self) -> str:\n",
    "        return datetime.today().strftime('%Y-%m-%d')\n",
    "    \n",
    "    # allows splatting with **payload\n",
    "    def keys(self) -> KeysView[str]:\n",
    "        return self.__dict__.keys()\n",
    "\n",
    "    # allows splatting with **payload\n",
    "    def __getitem__(self, key: str) -> Any:\n",
    "        return self.__dict__.__getitem__(key)"
   ]
  },
  {
   "cell_type": "code",
   "execution_count": 19,
   "id": "865c450b",
   "metadata": {},
   "outputs": [],
   "source": [
    "dfu_dataset_path = get_data_dir()"
   ]
  },
  {
   "cell_type": "code",
   "execution_count": 20,
   "id": "a437eb70-7018-4506-918d-be85943426b9",
   "metadata": {},
   "outputs": [],
   "source": [
    "experiment = {}\n",
    "experiment[\"data\"] = get_all_data(dfu_dataset_path=dfu_dataset_path)\n",
    "experiment[\"metrics\"] = get_metrics()\n",
    "experiment[\"backbone\"] = torchvision.models.resnet.resnet34\n",
    "experiment[\"optimizer\"] = ranger\n",
    "experiment[\"weights_path\"] = None # fresh finetuning\n",
    "experiment[\"input_size\"] = 256 # images are 512\n",
    "experiment[\"batch_size\"] = 4\n",
    "experiment[\"batch_tfms\"] = [\n",
    "    aug_transforms(size=(experiment[\"input_size\"], experiment[\"input_size\"]))\n",
    "] # faster iterations"
   ]
  },
  {
   "cell_type": "code",
   "execution_count": 21,
   "id": "f5891434-9bcf-43e6-9a59-f92015dbc623",
   "metadata": {},
   "outputs": [
    {
     "name": "stdout",
     "output_type": "stream",
     "text": [
      "Preparing Experiment: 2022-07-02-resnet34-256-ranger\n"
     ]
    },
    {
     "name": "stderr",
     "output_type": "stream",
     "text": [
      "/root/mambaforge/lib/python3.9/site-packages/torch/_tensor.py:1142: UserWarning: __floordiv__ is deprecated, and its behavior will change in a future version of pytorch. It currently rounds toward 0 (like the 'trunc' function NOT 'floor'). This results in incorrect rounding for negative values. To keep the current behavior, use torch.div(a, b, rounding_mode='trunc'), or for actual floor division, use torch.div(a, b, rounding_mode='floor').\n",
      "  ret = func(*args, **kwargs)\n"
     ]
    }
   ],
   "source": [
    "x = Experiment(**experiment)\n",
    "print(f\"Preparing Experiment: {x.name}\")\n",
    "model = load_model_training(**x)"
   ]
  },
  {
   "cell_type": "code",
   "execution_count": null,
   "id": "00ab0228-6dfa-45f6-abf1-712b01eba037",
   "metadata": {},
   "outputs": [],
   "source": [
    "model.lr_find(suggest_funcs=(valley, slide))"
   ]
  },
  {
   "cell_type": "code",
   "execution_count": 25,
   "id": "36993c90-962f-4f95-a547-aaba47d8643f",
   "metadata": {},
   "outputs": [],
   "source": [
    "attempt = 1"
   ]
  },
  {
   "cell_type": "code",
   "execution_count": 22,
   "id": "6352afe7-eccd-45ad-8557-0d2522bacb3d",
   "metadata": {},
   "outputs": [],
   "source": [
    "lr = 1e-3"
   ]
  },
  {
   "cell_type": "code",
   "execution_count": 23,
   "id": "c71a2369-05c2-4ae6-bfa4-8611f5ebf665",
   "metadata": {},
   "outputs": [
    {
     "data": {
      "text/html": [
       "\n",
       "<style>\n",
       "    /* Turns off some styling */\n",
       "    progress {\n",
       "        /* gets rid of default border in Firefox and Opera. */\n",
       "        border: none;\n",
       "        /* Needs to be in here for Safari polyfill so background images work as expected. */\n",
       "        background-size: auto;\n",
       "    }\n",
       "    .progress-bar-interrupted, .progress-bar-interrupted::-webkit-progress-bar {\n",
       "        background: #F44336;\n",
       "    }\n",
       "</style>\n"
      ],
      "text/plain": [
       "<IPython.core.display.HTML object>"
      ]
     },
     "metadata": {},
     "output_type": "display_data"
    },
    {
     "data": {
      "text/html": [
       "<table border=\"1\" class=\"dataframe\">\n",
       "  <thead>\n",
       "    <tr style=\"text-align: left;\">\n",
       "      <th>epoch</th>\n",
       "      <th>train_loss</th>\n",
       "      <th>valid_loss</th>\n",
       "      <th>acc_dfu</th>\n",
       "      <th>dice</th>\n",
       "      <th>time</th>\n",
       "    </tr>\n",
       "  </thead>\n",
       "  <tbody>\n",
       "    <tr>\n",
       "      <td>0</td>\n",
       "      <td>0.019359</td>\n",
       "      <td>0.018878</td>\n",
       "      <td>0.554722</td>\n",
       "      <td>0.671652</td>\n",
       "      <td>05:48</td>\n",
       "    </tr>\n",
       "    <tr>\n",
       "      <td>1</td>\n",
       "      <td>0.012221</td>\n",
       "      <td>0.012821</td>\n",
       "      <td>0.646746</td>\n",
       "      <td>0.765495</td>\n",
       "      <td>05:48</td>\n",
       "    </tr>\n",
       "    <tr>\n",
       "      <td>2</td>\n",
       "      <td>0.011599</td>\n",
       "      <td>0.008595</td>\n",
       "      <td>0.889297</td>\n",
       "      <td>0.876959</td>\n",
       "      <td>05:47</td>\n",
       "    </tr>\n",
       "  </tbody>\n",
       "</table>"
      ],
      "text/plain": [
       "<IPython.core.display.HTML object>"
      ]
     },
     "metadata": {},
     "output_type": "display_data"
    },
    {
     "name": "stdout",
     "output_type": "stream",
     "text": [
      "Epoch 1: reducing lr to 0.0001\n",
      "Epoch 2: reducing lr to 0.0001\n",
      "No improvement since epoch 0: early stopping\n"
     ]
    }
   ],
   "source": [
    "model = load_model_training(**x) # fresh model\n",
    "callbacks = [\n",
    "    ReduceLROnPlateau(monitor='valid_loss', min_delta=0.1, patience=1),\n",
    "    EarlyStoppingCallback(monitor='valid_loss', min_delta=0.1, patience=2),\n",
    "    SaveModelCallback(every_epoch=True)\n",
    "]\n",
    "model.fit_flat_cos(10, slice(lr), cbs=callbacks, wd=0.1)"
   ]
  },
  {
   "cell_type": "code",
   "execution_count": 26,
   "id": "afe01499-5a4c-4837-9cb6-410e3d4f88c4",
   "metadata": {},
   "outputs": [],
   "source": [
    "# move all the models to a folder\n",
    "attempt_folder = f\"attempt_{attempt}\"\n",
    "!cd models && mkdir {attempt_folder} && mv ./model_* {attempt_folder}\n",
    "attempt += 1"
   ]
  },
  {
   "cell_type": "code",
   "execution_count": 27,
   "id": "36a7a02e-0161-45e7-a728-79cfe67a8640",
   "metadata": {},
   "outputs": [],
   "source": [
    "lr = 1e-3"
   ]
  },
  {
   "cell_type": "code",
   "execution_count": 28,
   "id": "56d2c562-bef3-47f7-8943-e7dbbfabc76a",
   "metadata": {},
   "outputs": [
    {
     "data": {
      "text/html": [
       "\n",
       "<style>\n",
       "    /* Turns off some styling */\n",
       "    progress {\n",
       "        /* gets rid of default border in Firefox and Opera. */\n",
       "        border: none;\n",
       "        /* Needs to be in here for Safari polyfill so background images work as expected. */\n",
       "        background-size: auto;\n",
       "    }\n",
       "    .progress-bar-interrupted, .progress-bar-interrupted::-webkit-progress-bar {\n",
       "        background: #F44336;\n",
       "    }\n",
       "</style>\n"
      ],
      "text/plain": [
       "<IPython.core.display.HTML object>"
      ]
     },
     "metadata": {},
     "output_type": "display_data"
    },
    {
     "data": {
      "text/html": [
       "\n",
       "    <div>\n",
       "      <progress value='9' class='' max='10' style='width:300px; height:20px; vertical-align: middle;'></progress>\n",
       "      90.00% [9/10 52:25<05:49]\n",
       "    </div>\n",
       "    \n",
       "<table border=\"1\" class=\"dataframe\">\n",
       "  <thead>\n",
       "    <tr style=\"text-align: left;\">\n",
       "      <th>epoch</th>\n",
       "      <th>train_loss</th>\n",
       "      <th>valid_loss</th>\n",
       "      <th>acc_dfu</th>\n",
       "      <th>dice</th>\n",
       "      <th>time</th>\n",
       "    </tr>\n",
       "  </thead>\n",
       "  <tbody>\n",
       "    <tr>\n",
       "      <td>0</td>\n",
       "      <td>0.018552</td>\n",
       "      <td>0.010980</td>\n",
       "      <td>0.794888</td>\n",
       "      <td>0.840290</td>\n",
       "      <td>05:47</td>\n",
       "    </tr>\n",
       "    <tr>\n",
       "      <td>1</td>\n",
       "      <td>0.012367</td>\n",
       "      <td>0.010298</td>\n",
       "      <td>0.837714</td>\n",
       "      <td>0.855329</td>\n",
       "      <td>05:47</td>\n",
       "    </tr>\n",
       "    <tr>\n",
       "      <td>2</td>\n",
       "      <td>0.009150</td>\n",
       "      <td>0.008016</td>\n",
       "      <td>0.848203</td>\n",
       "      <td>0.881257</td>\n",
       "      <td>05:48</td>\n",
       "    </tr>\n",
       "    <tr>\n",
       "      <td>3</td>\n",
       "      <td>0.006128</td>\n",
       "      <td>0.009296</td>\n",
       "      <td>0.831691</td>\n",
       "      <td>0.874405</td>\n",
       "      <td>05:48</td>\n",
       "    </tr>\n",
       "    <tr>\n",
       "      <td>4</td>\n",
       "      <td>0.006848</td>\n",
       "      <td>0.008713</td>\n",
       "      <td>0.916977</td>\n",
       "      <td>0.890572</td>\n",
       "      <td>05:48</td>\n",
       "    </tr>\n",
       "    <tr>\n",
       "      <td>5</td>\n",
       "      <td>0.004714</td>\n",
       "      <td>0.010835</td>\n",
       "      <td>0.838585</td>\n",
       "      <td>0.863555</td>\n",
       "      <td>05:48</td>\n",
       "    </tr>\n",
       "    <tr>\n",
       "      <td>6</td>\n",
       "      <td>0.004523</td>\n",
       "      <td>0.007897</td>\n",
       "      <td>0.886877</td>\n",
       "      <td>0.887470</td>\n",
       "      <td>05:48</td>\n",
       "    </tr>\n",
       "    <tr>\n",
       "      <td>7</td>\n",
       "      <td>0.003622</td>\n",
       "      <td>0.008476</td>\n",
       "      <td>0.885807</td>\n",
       "      <td>0.899342</td>\n",
       "      <td>05:48</td>\n",
       "    </tr>\n",
       "    <tr>\n",
       "      <td>8</td>\n",
       "      <td>0.002857</td>\n",
       "      <td>0.008958</td>\n",
       "      <td>0.882629</td>\n",
       "      <td>0.896815</td>\n",
       "      <td>05:48</td>\n",
       "    </tr>\n",
       "  </tbody>\n",
       "</table><p>\n",
       "\n",
       "    <div>\n",
       "      <progress value='50' class='' max='50' style='width:300px; height:20px; vertical-align: middle;'></progress>\n",
       "      100.00% [50/50 00:28<00:00 0.0021]\n",
       "    </div>\n",
       "    "
      ],
      "text/plain": [
       "<IPython.core.display.HTML object>"
      ]
     },
     "metadata": {},
     "output_type": "display_data"
    },
    {
     "name": "stdout",
     "output_type": "stream",
     "text": [
      "Epoch 2: reducing lr to 0.0001\n",
      "Epoch 4: reducing lr to 0.0001\n",
      "Epoch 6: reducing lr to 0.0001\n",
      "Epoch 8: reducing lr to 3.4845918422725996e-05\n"
     ]
    },
    {
     "ename": "OSError",
     "evalue": "[Errno 122] Disk quota exceeded",
     "output_type": "error",
     "traceback": [
      "\u001b[0;31m---------------------------------------------------------------------------\u001b[0m",
      "\u001b[0;31mOSError\u001b[0m                                   Traceback (most recent call last)",
      "File \u001b[0;32m~/mambaforge/lib/python3.9/site-packages/torch/serialization.py:380\u001b[0m, in \u001b[0;36msave\u001b[0;34m(obj, f, pickle_module, pickle_protocol, _use_new_zipfile_serialization)\u001b[0m\n\u001b[1;32m    379\u001b[0m \u001b[38;5;28;01mwith\u001b[39;00m _open_zipfile_writer(opened_file) \u001b[38;5;28;01mas\u001b[39;00m opened_zipfile:\n\u001b[0;32m--> 380\u001b[0m     \u001b[43m_save\u001b[49m\u001b[43m(\u001b[49m\u001b[43mobj\u001b[49m\u001b[43m,\u001b[49m\u001b[43m \u001b[49m\u001b[43mopened_zipfile\u001b[49m\u001b[43m,\u001b[49m\u001b[43m \u001b[49m\u001b[43mpickle_module\u001b[49m\u001b[43m,\u001b[49m\u001b[43m \u001b[49m\u001b[43mpickle_protocol\u001b[49m\u001b[43m)\u001b[49m\n\u001b[1;32m    381\u001b[0m     \u001b[38;5;28;01mreturn\u001b[39;00m\n",
      "File \u001b[0;32m~/mambaforge/lib/python3.9/site-packages/torch/serialization.py:604\u001b[0m, in \u001b[0;36m_save\u001b[0;34m(obj, zip_file, pickle_module, pickle_protocol)\u001b[0m\n\u001b[1;32m    603\u001b[0m num_bytes \u001b[38;5;241m=\u001b[39m storage\u001b[38;5;241m.\u001b[39mnbytes()\n\u001b[0;32m--> 604\u001b[0m \u001b[43mzip_file\u001b[49m\u001b[38;5;241;43m.\u001b[39;49m\u001b[43mwrite_record\u001b[49m\u001b[43m(\u001b[49m\u001b[43mname\u001b[49m\u001b[43m,\u001b[49m\u001b[43m \u001b[49m\u001b[43mstorage\u001b[49m\u001b[38;5;241;43m.\u001b[39;49m\u001b[43mdata_ptr\u001b[49m\u001b[43m(\u001b[49m\u001b[43m)\u001b[49m\u001b[43m,\u001b[49m\u001b[43m \u001b[49m\u001b[43mnum_bytes\u001b[49m\u001b[43m)\u001b[49m\n",
      "\u001b[0;31mOSError\u001b[0m: [Errno 122] Disk quota exceeded",
      "\nDuring handling of the above exception, another exception occurred:\n",
      "\u001b[0;31mRuntimeError\u001b[0m                              Traceback (most recent call last)",
      "File \u001b[0;32m~/mambaforge/lib/python3.9/site-packages/torch/serialization.py:381\u001b[0m, in \u001b[0;36msave\u001b[0;34m(obj, f, pickle_module, pickle_protocol, _use_new_zipfile_serialization)\u001b[0m\n\u001b[1;32m    380\u001b[0m         _save(obj, opened_zipfile, pickle_module, pickle_protocol)\n\u001b[0;32m--> 381\u001b[0m         \u001b[38;5;28;01mreturn\u001b[39;00m\n\u001b[1;32m    382\u001b[0m _legacy_save(obj, opened_file, pickle_module, pickle_protocol)\n",
      "File \u001b[0;32m~/mambaforge/lib/python3.9/site-packages/torch/serialization.py:260\u001b[0m, in \u001b[0;36m_open_zipfile_writer_buffer.__exit__\u001b[0;34m(self, *args)\u001b[0m\n\u001b[1;32m    259\u001b[0m \u001b[38;5;28;01mdef\u001b[39;00m \u001b[38;5;21m__exit__\u001b[39m(\u001b[38;5;28mself\u001b[39m, \u001b[38;5;241m*\u001b[39margs) \u001b[38;5;241m-\u001b[39m\u001b[38;5;241m>\u001b[39m \u001b[38;5;28;01mNone\u001b[39;00m:\n\u001b[0;32m--> 260\u001b[0m     \u001b[38;5;28;43mself\u001b[39;49m\u001b[38;5;241;43m.\u001b[39;49m\u001b[43mfile_like\u001b[49m\u001b[38;5;241;43m.\u001b[39;49m\u001b[43mwrite_end_of_file\u001b[49m\u001b[43m(\u001b[49m\u001b[43m)\u001b[49m\n\u001b[1;32m    261\u001b[0m     \u001b[38;5;28mself\u001b[39m\u001b[38;5;241m.\u001b[39mbuffer\u001b[38;5;241m.\u001b[39mflush()\n",
      "\u001b[0;31mRuntimeError\u001b[0m: [enforce fail at inline_container.cc:300] . unexpected pos 2583552 vs 2583448",
      "\nDuring handling of the above exception, another exception occurred:\n",
      "\u001b[0;31mOSError\u001b[0m                                   Traceback (most recent call last)",
      "Input \u001b[0;32mIn [28]\u001b[0m, in \u001b[0;36m<cell line: 6>\u001b[0;34m()\u001b[0m\n\u001b[1;32m      1\u001b[0m model \u001b[38;5;241m=\u001b[39m load_model_training(\u001b[38;5;241m*\u001b[39m\u001b[38;5;241m*\u001b[39mx) \u001b[38;5;66;03m# fresh model\u001b[39;00m\n\u001b[1;32m      2\u001b[0m callbacks \u001b[38;5;241m=\u001b[39m [\n\u001b[1;32m      3\u001b[0m     ReduceLROnPlateau(monitor\u001b[38;5;241m=\u001b[39m\u001b[38;5;124m'\u001b[39m\u001b[38;5;124mvalid_loss\u001b[39m\u001b[38;5;124m'\u001b[39m, min_delta\u001b[38;5;241m=\u001b[39m\u001b[38;5;241m0.1\u001b[39m, patience\u001b[38;5;241m=\u001b[39m\u001b[38;5;241m2\u001b[39m),\n\u001b[1;32m      4\u001b[0m     SaveModelCallback(every_epoch\u001b[38;5;241m=\u001b[39m\u001b[38;5;28;01mTrue\u001b[39;00m)\n\u001b[1;32m      5\u001b[0m ]\n\u001b[0;32m----> 6\u001b[0m \u001b[43mmodel\u001b[49m\u001b[38;5;241;43m.\u001b[39;49m\u001b[43mfit_flat_cos\u001b[49m\u001b[43m(\u001b[49m\u001b[38;5;241;43m10\u001b[39;49m\u001b[43m,\u001b[49m\u001b[43m \u001b[49m\u001b[38;5;28;43mslice\u001b[39;49m\u001b[43m(\u001b[49m\u001b[43mlr\u001b[49m\u001b[43m)\u001b[49m\u001b[43m,\u001b[49m\u001b[43m \u001b[49m\u001b[43mcbs\u001b[49m\u001b[38;5;241;43m=\u001b[39;49m\u001b[43mcallbacks\u001b[49m\u001b[43m,\u001b[49m\u001b[43m \u001b[49m\u001b[43mwd\u001b[49m\u001b[38;5;241;43m=\u001b[39;49m\u001b[38;5;241;43m0.1\u001b[39;49m\u001b[43m)\u001b[49m\n",
      "File \u001b[0;32m~/mambaforge/lib/python3.9/site-packages/fastai/callback/schedule.py:145\u001b[0m, in \u001b[0;36mfit_flat_cos\u001b[0;34m(self, n_epoch, lr, div_final, pct_start, wd, cbs, reset_opt, start_epoch)\u001b[0m\n\u001b[1;32m    143\u001b[0m lr \u001b[38;5;241m=\u001b[39m np\u001b[38;5;241m.\u001b[39marray([h[\u001b[38;5;124m'\u001b[39m\u001b[38;5;124mlr\u001b[39m\u001b[38;5;124m'\u001b[39m] \u001b[38;5;28;01mfor\u001b[39;00m h \u001b[38;5;129;01min\u001b[39;00m \u001b[38;5;28mself\u001b[39m\u001b[38;5;241m.\u001b[39mopt\u001b[38;5;241m.\u001b[39mhypers])\n\u001b[1;32m    144\u001b[0m scheds \u001b[38;5;241m=\u001b[39m {\u001b[38;5;124m'\u001b[39m\u001b[38;5;124mlr\u001b[39m\u001b[38;5;124m'\u001b[39m: combined_cos(pct_start, lr, lr, lr\u001b[38;5;241m/\u001b[39mdiv_final)}\n\u001b[0;32m--> 145\u001b[0m \u001b[38;5;28;43mself\u001b[39;49m\u001b[38;5;241;43m.\u001b[39;49m\u001b[43mfit\u001b[49m\u001b[43m(\u001b[49m\u001b[43mn_epoch\u001b[49m\u001b[43m,\u001b[49m\u001b[43m \u001b[49m\u001b[43mcbs\u001b[49m\u001b[38;5;241;43m=\u001b[39;49m\u001b[43mParamScheduler\u001b[49m\u001b[43m(\u001b[49m\u001b[43mscheds\u001b[49m\u001b[43m)\u001b[49m\u001b[38;5;241;43m+\u001b[39;49m\u001b[43mL\u001b[49m\u001b[43m(\u001b[49m\u001b[43mcbs\u001b[49m\u001b[43m)\u001b[49m\u001b[43m,\u001b[49m\u001b[43m \u001b[49m\u001b[43mreset_opt\u001b[49m\u001b[38;5;241;43m=\u001b[39;49m\u001b[43mreset_opt\u001b[49m\u001b[43m,\u001b[49m\u001b[43m \u001b[49m\u001b[43mwd\u001b[49m\u001b[38;5;241;43m=\u001b[39;49m\u001b[43mwd\u001b[49m\u001b[43m,\u001b[49m\u001b[43m \u001b[49m\u001b[43mstart_epoch\u001b[49m\u001b[38;5;241;43m=\u001b[39;49m\u001b[38;5;241;43m0\u001b[39;49m\u001b[43m)\u001b[49m\n",
      "File \u001b[0;32m~/mambaforge/lib/python3.9/site-packages/fastai/learner.py:241\u001b[0m, in \u001b[0;36mLearner.fit\u001b[0;34m(self, n_epoch, lr, wd, cbs, reset_opt, start_epoch)\u001b[0m\n\u001b[1;32m    239\u001b[0m \u001b[38;5;28mself\u001b[39m\u001b[38;5;241m.\u001b[39mopt\u001b[38;5;241m.\u001b[39mset_hypers(lr\u001b[38;5;241m=\u001b[39m\u001b[38;5;28mself\u001b[39m\u001b[38;5;241m.\u001b[39mlr \u001b[38;5;28;01mif\u001b[39;00m lr \u001b[38;5;129;01mis\u001b[39;00m \u001b[38;5;28;01mNone\u001b[39;00m \u001b[38;5;28;01melse\u001b[39;00m lr)\n\u001b[1;32m    240\u001b[0m \u001b[38;5;28mself\u001b[39m\u001b[38;5;241m.\u001b[39mn_epoch \u001b[38;5;241m=\u001b[39m n_epoch\n\u001b[0;32m--> 241\u001b[0m \u001b[38;5;28;43mself\u001b[39;49m\u001b[38;5;241;43m.\u001b[39;49m\u001b[43m_with_events\u001b[49m\u001b[43m(\u001b[49m\u001b[38;5;28;43mself\u001b[39;49m\u001b[38;5;241;43m.\u001b[39;49m\u001b[43m_do_fit\u001b[49m\u001b[43m,\u001b[49m\u001b[43m \u001b[49m\u001b[38;5;124;43m'\u001b[39;49m\u001b[38;5;124;43mfit\u001b[39;49m\u001b[38;5;124;43m'\u001b[39;49m\u001b[43m,\u001b[49m\u001b[43m \u001b[49m\u001b[43mCancelFitException\u001b[49m\u001b[43m,\u001b[49m\u001b[43m \u001b[49m\u001b[38;5;28;43mself\u001b[39;49m\u001b[38;5;241;43m.\u001b[39;49m\u001b[43m_end_cleanup\u001b[49m\u001b[43m)\u001b[49m\n",
      "File \u001b[0;32m~/mambaforge/lib/python3.9/site-packages/fastai/learner.py:179\u001b[0m, in \u001b[0;36mLearner._with_events\u001b[0;34m(self, f, event_type, ex, final)\u001b[0m\n\u001b[1;32m    178\u001b[0m \u001b[38;5;28;01mdef\u001b[39;00m \u001b[38;5;21m_with_events\u001b[39m(\u001b[38;5;28mself\u001b[39m, f, event_type, ex, final\u001b[38;5;241m=\u001b[39mnoop):\n\u001b[0;32m--> 179\u001b[0m     \u001b[38;5;28;01mtry\u001b[39;00m: \u001b[38;5;28mself\u001b[39m(\u001b[38;5;124mf\u001b[39m\u001b[38;5;124m'\u001b[39m\u001b[38;5;124mbefore_\u001b[39m\u001b[38;5;132;01m{\u001b[39;00mevent_type\u001b[38;5;132;01m}\u001b[39;00m\u001b[38;5;124m'\u001b[39m);  \u001b[43mf\u001b[49m\u001b[43m(\u001b[49m\u001b[43m)\u001b[49m\n\u001b[1;32m    180\u001b[0m     \u001b[38;5;28;01mexcept\u001b[39;00m ex: \u001b[38;5;28mself\u001b[39m(\u001b[38;5;124mf\u001b[39m\u001b[38;5;124m'\u001b[39m\u001b[38;5;124mafter_cancel_\u001b[39m\u001b[38;5;132;01m{\u001b[39;00mevent_type\u001b[38;5;132;01m}\u001b[39;00m\u001b[38;5;124m'\u001b[39m)\n\u001b[1;32m    181\u001b[0m     \u001b[38;5;28mself\u001b[39m(\u001b[38;5;124mf\u001b[39m\u001b[38;5;124m'\u001b[39m\u001b[38;5;124mafter_\u001b[39m\u001b[38;5;132;01m{\u001b[39;00mevent_type\u001b[38;5;132;01m}\u001b[39;00m\u001b[38;5;124m'\u001b[39m);  final()\n",
      "File \u001b[0;32m~/mambaforge/lib/python3.9/site-packages/fastai/learner.py:230\u001b[0m, in \u001b[0;36mLearner._do_fit\u001b[0;34m(self)\u001b[0m\n\u001b[1;32m    228\u001b[0m \u001b[38;5;28;01mfor\u001b[39;00m epoch \u001b[38;5;129;01min\u001b[39;00m \u001b[38;5;28mrange\u001b[39m(\u001b[38;5;28mself\u001b[39m\u001b[38;5;241m.\u001b[39mn_epoch):\n\u001b[1;32m    229\u001b[0m     \u001b[38;5;28mself\u001b[39m\u001b[38;5;241m.\u001b[39mepoch\u001b[38;5;241m=\u001b[39mepoch\n\u001b[0;32m--> 230\u001b[0m     \u001b[38;5;28;43mself\u001b[39;49m\u001b[38;5;241;43m.\u001b[39;49m\u001b[43m_with_events\u001b[49m\u001b[43m(\u001b[49m\u001b[38;5;28;43mself\u001b[39;49m\u001b[38;5;241;43m.\u001b[39;49m\u001b[43m_do_epoch\u001b[49m\u001b[43m,\u001b[49m\u001b[43m \u001b[49m\u001b[38;5;124;43m'\u001b[39;49m\u001b[38;5;124;43mepoch\u001b[39;49m\u001b[38;5;124;43m'\u001b[39;49m\u001b[43m,\u001b[49m\u001b[43m \u001b[49m\u001b[43mCancelEpochException\u001b[49m\u001b[43m)\u001b[49m\n",
      "File \u001b[0;32m~/mambaforge/lib/python3.9/site-packages/fastai/learner.py:181\u001b[0m, in \u001b[0;36mLearner._with_events\u001b[0;34m(self, f, event_type, ex, final)\u001b[0m\n\u001b[1;32m    179\u001b[0m \u001b[38;5;28;01mtry\u001b[39;00m: \u001b[38;5;28mself\u001b[39m(\u001b[38;5;124mf\u001b[39m\u001b[38;5;124m'\u001b[39m\u001b[38;5;124mbefore_\u001b[39m\u001b[38;5;132;01m{\u001b[39;00mevent_type\u001b[38;5;132;01m}\u001b[39;00m\u001b[38;5;124m'\u001b[39m);  f()\n\u001b[1;32m    180\u001b[0m \u001b[38;5;28;01mexcept\u001b[39;00m ex: \u001b[38;5;28mself\u001b[39m(\u001b[38;5;124mf\u001b[39m\u001b[38;5;124m'\u001b[39m\u001b[38;5;124mafter_cancel_\u001b[39m\u001b[38;5;132;01m{\u001b[39;00mevent_type\u001b[38;5;132;01m}\u001b[39;00m\u001b[38;5;124m'\u001b[39m)\n\u001b[0;32m--> 181\u001b[0m \u001b[38;5;28;43mself\u001b[39;49m\u001b[43m(\u001b[49m\u001b[38;5;124;43mf\u001b[39;49m\u001b[38;5;124;43m'\u001b[39;49m\u001b[38;5;124;43mafter_\u001b[39;49m\u001b[38;5;132;43;01m{\u001b[39;49;00m\u001b[43mevent_type\u001b[49m\u001b[38;5;132;43;01m}\u001b[39;49;00m\u001b[38;5;124;43m'\u001b[39;49m\u001b[43m)\u001b[49m;  final()\n",
      "File \u001b[0;32m~/mambaforge/lib/python3.9/site-packages/fastai/learner.py:157\u001b[0m, in \u001b[0;36mLearner.__call__\u001b[0;34m(self, event_name)\u001b[0m\n\u001b[0;32m--> 157\u001b[0m \u001b[38;5;28;01mdef\u001b[39;00m \u001b[38;5;21m__call__\u001b[39m(\u001b[38;5;28mself\u001b[39m, event_name): \u001b[43mL\u001b[49m\u001b[43m(\u001b[49m\u001b[43mevent_name\u001b[49m\u001b[43m)\u001b[49m\u001b[38;5;241;43m.\u001b[39;49m\u001b[43mmap\u001b[49m\u001b[43m(\u001b[49m\u001b[38;5;28;43mself\u001b[39;49m\u001b[38;5;241;43m.\u001b[39;49m\u001b[43m_call_one\u001b[49m\u001b[43m)\u001b[49m\n",
      "File \u001b[0;32m~/mambaforge/lib/python3.9/site-packages/fastcore/foundation.py:155\u001b[0m, in \u001b[0;36mL.map\u001b[0;34m(self, f, gen, *args, **kwargs)\u001b[0m\n\u001b[0;32m--> 155\u001b[0m \u001b[38;5;28;01mdef\u001b[39;00m \u001b[38;5;21mmap\u001b[39m(\u001b[38;5;28mself\u001b[39m, f, \u001b[38;5;241m*\u001b[39margs, gen\u001b[38;5;241m=\u001b[39m\u001b[38;5;28;01mFalse\u001b[39;00m, \u001b[38;5;241m*\u001b[39m\u001b[38;5;241m*\u001b[39mkwargs): \u001b[38;5;28;01mreturn\u001b[39;00m \u001b[38;5;28mself\u001b[39m\u001b[38;5;241m.\u001b[39m_new(\u001b[43mmap_ex\u001b[49m\u001b[43m(\u001b[49m\u001b[38;5;28;43mself\u001b[39;49m\u001b[43m,\u001b[49m\u001b[43m \u001b[49m\u001b[43mf\u001b[49m\u001b[43m,\u001b[49m\u001b[43m \u001b[49m\u001b[38;5;241;43m*\u001b[39;49m\u001b[43margs\u001b[49m\u001b[43m,\u001b[49m\u001b[43m \u001b[49m\u001b[43mgen\u001b[49m\u001b[38;5;241;43m=\u001b[39;49m\u001b[43mgen\u001b[49m\u001b[43m,\u001b[49m\u001b[43m \u001b[49m\u001b[38;5;241;43m*\u001b[39;49m\u001b[38;5;241;43m*\u001b[39;49m\u001b[43mkwargs\u001b[49m\u001b[43m)\u001b[49m)\n",
      "File \u001b[0;32m~/mambaforge/lib/python3.9/site-packages/fastcore/basics.py:790\u001b[0m, in \u001b[0;36mmap_ex\u001b[0;34m(iterable, f, gen, *args, **kwargs)\u001b[0m\n\u001b[1;32m    788\u001b[0m res \u001b[38;5;241m=\u001b[39m \u001b[38;5;28mmap\u001b[39m(g, iterable)\n\u001b[1;32m    789\u001b[0m \u001b[38;5;28;01mif\u001b[39;00m gen: \u001b[38;5;28;01mreturn\u001b[39;00m res\n\u001b[0;32m--> 790\u001b[0m \u001b[38;5;28;01mreturn\u001b[39;00m \u001b[38;5;28;43mlist\u001b[39;49m\u001b[43m(\u001b[49m\u001b[43mres\u001b[49m\u001b[43m)\u001b[49m\n",
      "File \u001b[0;32m~/mambaforge/lib/python3.9/site-packages/fastcore/basics.py:775\u001b[0m, in \u001b[0;36mbind.__call__\u001b[0;34m(self, *args, **kwargs)\u001b[0m\n\u001b[1;32m    773\u001b[0m     \u001b[38;5;28;01mif\u001b[39;00m \u001b[38;5;28misinstance\u001b[39m(v,_Arg): kwargs[k] \u001b[38;5;241m=\u001b[39m args\u001b[38;5;241m.\u001b[39mpop(v\u001b[38;5;241m.\u001b[39mi)\n\u001b[1;32m    774\u001b[0m fargs \u001b[38;5;241m=\u001b[39m [args[x\u001b[38;5;241m.\u001b[39mi] \u001b[38;5;28;01mif\u001b[39;00m \u001b[38;5;28misinstance\u001b[39m(x, _Arg) \u001b[38;5;28;01melse\u001b[39;00m x \u001b[38;5;28;01mfor\u001b[39;00m x \u001b[38;5;129;01min\u001b[39;00m \u001b[38;5;28mself\u001b[39m\u001b[38;5;241m.\u001b[39mpargs] \u001b[38;5;241m+\u001b[39m args[\u001b[38;5;28mself\u001b[39m\u001b[38;5;241m.\u001b[39mmaxi\u001b[38;5;241m+\u001b[39m\u001b[38;5;241m1\u001b[39m:]\n\u001b[0;32m--> 775\u001b[0m \u001b[38;5;28;01mreturn\u001b[39;00m \u001b[38;5;28;43mself\u001b[39;49m\u001b[38;5;241;43m.\u001b[39;49m\u001b[43mfunc\u001b[49m\u001b[43m(\u001b[49m\u001b[38;5;241;43m*\u001b[39;49m\u001b[43mfargs\u001b[49m\u001b[43m,\u001b[49m\u001b[43m \u001b[49m\u001b[38;5;241;43m*\u001b[39;49m\u001b[38;5;241;43m*\u001b[39;49m\u001b[43mkwargs\u001b[49m\u001b[43m)\u001b[49m\n",
      "File \u001b[0;32m~/mambaforge/lib/python3.9/site-packages/fastai/learner.py:161\u001b[0m, in \u001b[0;36mLearner._call_one\u001b[0;34m(self, event_name)\u001b[0m\n\u001b[1;32m    159\u001b[0m \u001b[38;5;28;01mdef\u001b[39;00m \u001b[38;5;21m_call_one\u001b[39m(\u001b[38;5;28mself\u001b[39m, event_name):\n\u001b[1;32m    160\u001b[0m     \u001b[38;5;28;01mif\u001b[39;00m \u001b[38;5;129;01mnot\u001b[39;00m \u001b[38;5;28mhasattr\u001b[39m(event, event_name): \u001b[38;5;28;01mraise\u001b[39;00m \u001b[38;5;167;01mException\u001b[39;00m(\u001b[38;5;124mf\u001b[39m\u001b[38;5;124m'\u001b[39m\u001b[38;5;124mmissing \u001b[39m\u001b[38;5;132;01m{\u001b[39;00mevent_name\u001b[38;5;132;01m}\u001b[39;00m\u001b[38;5;124m'\u001b[39m)\n\u001b[0;32m--> 161\u001b[0m     \u001b[38;5;28;01mfor\u001b[39;00m cb \u001b[38;5;129;01min\u001b[39;00m \u001b[38;5;28mself\u001b[39m\u001b[38;5;241m.\u001b[39mcbs\u001b[38;5;241m.\u001b[39msorted(\u001b[38;5;124m'\u001b[39m\u001b[38;5;124morder\u001b[39m\u001b[38;5;124m'\u001b[39m): \u001b[43mcb\u001b[49m\u001b[43m(\u001b[49m\u001b[43mevent_name\u001b[49m\u001b[43m)\u001b[49m\n",
      "File \u001b[0;32m~/mambaforge/lib/python3.9/site-packages/fastai/callback/core.py:65\u001b[0m, in \u001b[0;36mCallback.__call__\u001b[0;34m(self, event_name)\u001b[0m\n\u001b[1;32m     63\u001b[0m     \u001b[38;5;28;01mtry\u001b[39;00m: res \u001b[38;5;241m=\u001b[39m getcallable(\u001b[38;5;28mself\u001b[39m, event_name)()\n\u001b[1;32m     64\u001b[0m     \u001b[38;5;28;01mexcept\u001b[39;00m (CancelBatchException, CancelBackwardException, CancelEpochException, CancelFitException, CancelStepException, CancelTrainException, CancelValidException): \u001b[38;5;28;01mraise\u001b[39;00m\n\u001b[0;32m---> 65\u001b[0m     \u001b[38;5;28;01mexcept\u001b[39;00m \u001b[38;5;167;01mException\u001b[39;00m \u001b[38;5;28;01mas\u001b[39;00m e: \u001b[38;5;28;01mraise\u001b[39;00m modify_exception(e, \u001b[38;5;124mf\u001b[39m\u001b[38;5;124m'\u001b[39m\u001b[38;5;124mException occured in `\u001b[39m\u001b[38;5;132;01m{\u001b[39;00m\u001b[38;5;28mself\u001b[39m\u001b[38;5;241m.\u001b[39m\u001b[38;5;18m__class__\u001b[39m\u001b[38;5;241m.\u001b[39m\u001b[38;5;18m__name__\u001b[39m\u001b[38;5;132;01m}\u001b[39;00m\u001b[38;5;124m` when calling event `\u001b[39m\u001b[38;5;132;01m{\u001b[39;00mevent_name\u001b[38;5;132;01m}\u001b[39;00m\u001b[38;5;124m`:\u001b[39m\u001b[38;5;130;01m\\n\u001b[39;00m\u001b[38;5;130;01m\\t\u001b[39;00m\u001b[38;5;132;01m{\u001b[39;00me\u001b[38;5;241m.\u001b[39margs[\u001b[38;5;241m0\u001b[39m]\u001b[38;5;132;01m}\u001b[39;00m\u001b[38;5;124m'\u001b[39m, replace\u001b[38;5;241m=\u001b[39m\u001b[38;5;28;01mTrue\u001b[39;00m)\n\u001b[1;32m     66\u001b[0m \u001b[38;5;28;01mif\u001b[39;00m event_name\u001b[38;5;241m==\u001b[39m\u001b[38;5;124m'\u001b[39m\u001b[38;5;124mafter_fit\u001b[39m\u001b[38;5;124m'\u001b[39m: \u001b[38;5;28mself\u001b[39m\u001b[38;5;241m.\u001b[39mrun\u001b[38;5;241m=\u001b[39m\u001b[38;5;28;01mTrue\u001b[39;00m \u001b[38;5;66;03m#Reset self.run to True at each end of fit\u001b[39;00m\n\u001b[1;32m     67\u001b[0m \u001b[38;5;28;01mreturn\u001b[39;00m res\n",
      "File \u001b[0;32m~/mambaforge/lib/python3.9/site-packages/fastai/callback/core.py:63\u001b[0m, in \u001b[0;36mCallback.__call__\u001b[0;34m(self, event_name)\u001b[0m\n\u001b[1;32m     61\u001b[0m res \u001b[38;5;241m=\u001b[39m \u001b[38;5;28;01mNone\u001b[39;00m\n\u001b[1;32m     62\u001b[0m \u001b[38;5;28;01mif\u001b[39;00m \u001b[38;5;28mself\u001b[39m\u001b[38;5;241m.\u001b[39mrun \u001b[38;5;129;01mand\u001b[39;00m _run:\n\u001b[0;32m---> 63\u001b[0m     \u001b[38;5;28;01mtry\u001b[39;00m: res \u001b[38;5;241m=\u001b[39m \u001b[43mgetcallable\u001b[49m\u001b[43m(\u001b[49m\u001b[38;5;28;43mself\u001b[39;49m\u001b[43m,\u001b[49m\u001b[43m \u001b[49m\u001b[43mevent_name\u001b[49m\u001b[43m)\u001b[49m\u001b[43m(\u001b[49m\u001b[43m)\u001b[49m\n\u001b[1;32m     64\u001b[0m     \u001b[38;5;28;01mexcept\u001b[39;00m (CancelBatchException, CancelBackwardException, CancelEpochException, CancelFitException, CancelStepException, CancelTrainException, CancelValidException): \u001b[38;5;28;01mraise\u001b[39;00m\n\u001b[1;32m     65\u001b[0m     \u001b[38;5;28;01mexcept\u001b[39;00m \u001b[38;5;167;01mException\u001b[39;00m \u001b[38;5;28;01mas\u001b[39;00m e: \u001b[38;5;28;01mraise\u001b[39;00m modify_exception(e, \u001b[38;5;124mf\u001b[39m\u001b[38;5;124m'\u001b[39m\u001b[38;5;124mException occured in `\u001b[39m\u001b[38;5;132;01m{\u001b[39;00m\u001b[38;5;28mself\u001b[39m\u001b[38;5;241m.\u001b[39m\u001b[38;5;18m__class__\u001b[39m\u001b[38;5;241m.\u001b[39m\u001b[38;5;18m__name__\u001b[39m\u001b[38;5;132;01m}\u001b[39;00m\u001b[38;5;124m` when calling event `\u001b[39m\u001b[38;5;132;01m{\u001b[39;00mevent_name\u001b[38;5;132;01m}\u001b[39;00m\u001b[38;5;124m`:\u001b[39m\u001b[38;5;130;01m\\n\u001b[39;00m\u001b[38;5;130;01m\\t\u001b[39;00m\u001b[38;5;132;01m{\u001b[39;00me\u001b[38;5;241m.\u001b[39margs[\u001b[38;5;241m0\u001b[39m]\u001b[38;5;132;01m}\u001b[39;00m\u001b[38;5;124m'\u001b[39m, replace\u001b[38;5;241m=\u001b[39m\u001b[38;5;28;01mTrue\u001b[39;00m)\n",
      "File \u001b[0;32m~/mambaforge/lib/python3.9/site-packages/fastai/callback/tracker.py:92\u001b[0m, in \u001b[0;36mSaveModelCallback.after_epoch\u001b[0;34m(self)\u001b[0m\n\u001b[1;32m     90\u001b[0m \u001b[38;5;124m\"\u001b[39m\u001b[38;5;124mCompare the value monitored to its best score and save if best.\u001b[39m\u001b[38;5;124m\"\u001b[39m\n\u001b[1;32m     91\u001b[0m \u001b[38;5;28;01mif\u001b[39;00m \u001b[38;5;28mself\u001b[39m\u001b[38;5;241m.\u001b[39mevery_epoch:\n\u001b[0;32m---> 92\u001b[0m     \u001b[38;5;28;01mif\u001b[39;00m (\u001b[38;5;28mself\u001b[39m\u001b[38;5;241m.\u001b[39mepoch\u001b[38;5;241m%\u001b[39m\u001b[38;5;28mself\u001b[39m\u001b[38;5;241m.\u001b[39mevery_epoch) \u001b[38;5;241m==\u001b[39m \u001b[38;5;241m0\u001b[39m: \u001b[38;5;28;43mself\u001b[39;49m\u001b[38;5;241;43m.\u001b[39;49m\u001b[43m_save\u001b[49m\u001b[43m(\u001b[49m\u001b[38;5;124;43mf\u001b[39;49m\u001b[38;5;124;43m'\u001b[39;49m\u001b[38;5;132;43;01m{\u001b[39;49;00m\u001b[38;5;28;43mself\u001b[39;49m\u001b[38;5;241;43m.\u001b[39;49m\u001b[43mfname\u001b[49m\u001b[38;5;132;43;01m}\u001b[39;49;00m\u001b[38;5;124;43m_\u001b[39;49m\u001b[38;5;132;43;01m{\u001b[39;49;00m\u001b[38;5;28;43mself\u001b[39;49m\u001b[38;5;241;43m.\u001b[39;49m\u001b[43mepoch\u001b[49m\u001b[38;5;132;43;01m}\u001b[39;49;00m\u001b[38;5;124;43m'\u001b[39;49m\u001b[43m)\u001b[49m\n\u001b[1;32m     93\u001b[0m \u001b[38;5;28;01melse\u001b[39;00m: \u001b[38;5;66;03m#every improvement\u001b[39;00m\n\u001b[1;32m     94\u001b[0m     \u001b[38;5;28msuper\u001b[39m()\u001b[38;5;241m.\u001b[39mafter_epoch()\n",
      "File \u001b[0;32m~/mambaforge/lib/python3.9/site-packages/fastai/callback/tracker.py:87\u001b[0m, in \u001b[0;36mSaveModelCallback._save\u001b[0;34m(self, name)\u001b[0m\n\u001b[0;32m---> 87\u001b[0m \u001b[38;5;28;01mdef\u001b[39;00m \u001b[38;5;21m_save\u001b[39m(\u001b[38;5;28mself\u001b[39m, name): \u001b[38;5;28mself\u001b[39m\u001b[38;5;241m.\u001b[39mlast_saved_path \u001b[38;5;241m=\u001b[39m \u001b[38;5;28;43mself\u001b[39;49m\u001b[38;5;241;43m.\u001b[39;49m\u001b[43mlearn\u001b[49m\u001b[38;5;241;43m.\u001b[39;49m\u001b[43msave\u001b[49m\u001b[43m(\u001b[49m\u001b[43mname\u001b[49m\u001b[43m,\u001b[49m\u001b[43m \u001b[49m\u001b[43mwith_opt\u001b[49m\u001b[38;5;241;43m=\u001b[39;49m\u001b[38;5;28;43mself\u001b[39;49m\u001b[38;5;241;43m.\u001b[39;49m\u001b[43mwith_opt\u001b[49m\u001b[43m)\u001b[49m\n",
      "File \u001b[0;32m~/mambaforge/lib/python3.9/site-packages/fastai/learner.py:375\u001b[0m, in \u001b[0;36msave\u001b[0;34m(self, file, **kwargs)\u001b[0m\n\u001b[1;32m    373\u001b[0m \u001b[38;5;124m\"\u001b[39m\u001b[38;5;124mSave model and optimizer state (if `with_opt`) to `self.path/self.model_dir/file`\u001b[39m\u001b[38;5;124m\"\u001b[39m\n\u001b[1;32m    374\u001b[0m file \u001b[38;5;241m=\u001b[39m join_path_file(file, \u001b[38;5;28mself\u001b[39m\u001b[38;5;241m.\u001b[39mpath\u001b[38;5;241m/\u001b[39m\u001b[38;5;28mself\u001b[39m\u001b[38;5;241m.\u001b[39mmodel_dir, ext\u001b[38;5;241m=\u001b[39m\u001b[38;5;124m'\u001b[39m\u001b[38;5;124m.pth\u001b[39m\u001b[38;5;124m'\u001b[39m)\n\u001b[0;32m--> 375\u001b[0m \u001b[43msave_model\u001b[49m\u001b[43m(\u001b[49m\u001b[43mfile\u001b[49m\u001b[43m,\u001b[49m\u001b[43m \u001b[49m\u001b[38;5;28;43mself\u001b[39;49m\u001b[38;5;241;43m.\u001b[39;49m\u001b[43mmodel\u001b[49m\u001b[43m,\u001b[49m\u001b[43m \u001b[49m\u001b[38;5;28;43mgetattr\u001b[39;49m\u001b[43m(\u001b[49m\u001b[38;5;28;43mself\u001b[39;49m\u001b[43m,\u001b[49m\u001b[38;5;124;43m'\u001b[39;49m\u001b[38;5;124;43mopt\u001b[39;49m\u001b[38;5;124;43m'\u001b[39;49m\u001b[43m,\u001b[49m\u001b[38;5;28;43;01mNone\u001b[39;49;00m\u001b[43m)\u001b[49m\u001b[43m,\u001b[49m\u001b[43m \u001b[49m\u001b[38;5;241;43m*\u001b[39;49m\u001b[38;5;241;43m*\u001b[39;49m\u001b[43mkwargs\u001b[49m\u001b[43m)\u001b[49m\n\u001b[1;32m    376\u001b[0m \u001b[38;5;28;01mreturn\u001b[39;00m file\n",
      "File \u001b[0;32m~/mambaforge/lib/python3.9/site-packages/fastai/learner.py:44\u001b[0m, in \u001b[0;36msave_model\u001b[0;34m(file, model, opt, with_opt, pickle_protocol)\u001b[0m\n\u001b[1;32m     42\u001b[0m state \u001b[38;5;241m=\u001b[39m get_model(model)\u001b[38;5;241m.\u001b[39mstate_dict()\n\u001b[1;32m     43\u001b[0m \u001b[38;5;28;01mif\u001b[39;00m with_opt: state \u001b[38;5;241m=\u001b[39m {\u001b[38;5;124m'\u001b[39m\u001b[38;5;124mmodel\u001b[39m\u001b[38;5;124m'\u001b[39m: state, \u001b[38;5;124m'\u001b[39m\u001b[38;5;124mopt\u001b[39m\u001b[38;5;124m'\u001b[39m:opt\u001b[38;5;241m.\u001b[39mstate_dict()}\n\u001b[0;32m---> 44\u001b[0m \u001b[43mtorch\u001b[49m\u001b[38;5;241;43m.\u001b[39;49m\u001b[43msave\u001b[49m\u001b[43m(\u001b[49m\u001b[43mstate\u001b[49m\u001b[43m,\u001b[49m\u001b[43m \u001b[49m\u001b[43mfile\u001b[49m\u001b[43m,\u001b[49m\u001b[43m \u001b[49m\u001b[43mpickle_protocol\u001b[49m\u001b[38;5;241;43m=\u001b[39;49m\u001b[43mpickle_protocol\u001b[49m\u001b[43m)\u001b[49m\n",
      "File \u001b[0;32m~/mambaforge/lib/python3.9/site-packages/torch/serialization.py:382\u001b[0m, in \u001b[0;36msave\u001b[0;34m(obj, f, pickle_module, pickle_protocol, _use_new_zipfile_serialization)\u001b[0m\n\u001b[1;32m    380\u001b[0m         _save(obj, opened_zipfile, pickle_module, pickle_protocol)\n\u001b[1;32m    381\u001b[0m         \u001b[38;5;28;01mreturn\u001b[39;00m\n\u001b[0;32m--> 382\u001b[0m _legacy_save(obj, opened_file, pickle_module, pickle_protocol)\n",
      "File \u001b[0;32m~/mambaforge/lib/python3.9/site-packages/torch/serialization.py:215\u001b[0m, in \u001b[0;36m_open_file.__exit__\u001b[0;34m(self, *args)\u001b[0m\n\u001b[1;32m    214\u001b[0m \u001b[38;5;28;01mdef\u001b[39;00m \u001b[38;5;21m__exit__\u001b[39m(\u001b[38;5;28mself\u001b[39m, \u001b[38;5;241m*\u001b[39margs):\n\u001b[0;32m--> 215\u001b[0m     \u001b[38;5;28;43mself\u001b[39;49m\u001b[38;5;241;43m.\u001b[39;49m\u001b[43mfile_like\u001b[49m\u001b[38;5;241;43m.\u001b[39;49m\u001b[43mclose\u001b[49m\u001b[43m(\u001b[49m\u001b[43m)\u001b[49m\n",
      "\u001b[0;31mOSError\u001b[0m: [Errno 122] Disk quota exceeded"
     ]
    }
   ],
   "source": [
    "model = load_model_training(**x) # fresh model\n",
    "callbacks = [\n",
    "    ReduceLROnPlateau(monitor='valid_loss', min_delta=0.1, patience=2),\n",
    "    SaveModelCallback(every_epoch=True)\n",
    "]\n",
    "model.fit_flat_cos(10, slice(lr), cbs=callbacks, wd=0.1)"
   ]
  },
  {
   "cell_type": "code",
   "execution_count": null,
   "id": "d7164ac2-447c-45d7-a212-08e3a2994119",
   "metadata": {},
   "outputs": [],
   "source": [
    "# move all the models to a folder\n",
    "attempt_folder = f\"attempt_{attempt}\"\n",
    "!cd models && mkdir {attempt_folder} && mv ./model_* {attempt_folder}\n",
    "attempt += 1"
   ]
  },
  {
   "cell_type": "code",
   "execution_count": null,
   "id": "28515b01-9757-4fb4-b55a-92bc7ff96a00",
   "metadata": {},
   "outputs": [],
   "source": [
    "model = load_model_training(**x) # fresh model\n",
    "callbacks = [\n",
    "    ReduceLROnPlateau(monitor='valid_loss', min_delta=0.1, patience=1),\n",
    "    EarlyStoppingCallback(monitor='valid_loss', min_delta=0.1, patience=2),\n",
    "    SaveModelCallback(every_epoch=True)\n",
    "]\n",
    "model.fit_flat_cos(10, slice(lr), cbs=callbacks, wd=0.1)"
   ]
  },
  {
   "cell_type": "code",
   "execution_count": null,
   "id": "21a44625-19bf-4603-bed5-7f29990b6692",
   "metadata": {},
   "outputs": [],
   "source": [
    "# move all the models to a folder\n",
    "attempt_folder = f\"attempt_{attempt}\"\n",
    "print(attempt_folder)\n",
    "!cd models && mkdir {attempt_folder} && mv ./model_* {attempt_folder}\n",
    "attempt += 1"
   ]
  },
  {
   "cell_type": "code",
   "execution_count": null,
   "id": "d82957fe-61c1-4163-829f-91ff2a092f58",
   "metadata": {},
   "outputs": [],
   "source": [
    "model = load_model_training(**x) # fresh model\n",
    "callbacks = [\n",
    "    ReduceLROnPlateau(monitor='valid_loss', min_delta=0.1, patience=1),\n",
    "    EarlyStoppingCallback(monitor='valid_loss', min_delta=0.1, patience=2),\n",
    "    SaveModelCallback(every_epoch=True)\n",
    "]\n",
    "model.fit_flat_cos(10, slice(lr), cbs=callbacks)"
   ]
  },
  {
   "cell_type": "code",
   "execution_count": null,
   "id": "eeebb5ab-7d5b-48c1-ae59-8f8bd89a660e",
   "metadata": {},
   "outputs": [],
   "source": [
    "# move all the models to a folder\n",
    "attempt_folder = f\"attempt_{attempt}\"\n",
    "print(attempt_folder)\n",
    "!cd models && mkdir {attempt_folder} && mv ./model_* {attempt_folder}\n",
    "attempt += 1"
   ]
  },
  {
   "cell_type": "code",
   "execution_count": null,
   "id": "d5ad886f-2719-49c9-a6fd-02f5b32890ca",
   "metadata": {},
   "outputs": [],
   "source": [
    "gc.collect()"
   ]
  },
  {
   "cell_type": "code",
   "execution_count": null,
   "id": "056af512-0d6e-4761-833e-b670bfa97e29",
   "metadata": {},
   "outputs": [],
   "source": [
    "import torch\n",
    "import gc\n",
    "for obj in gc.get_objects():\n",
    "    try:\n",
    "        if torch.is_tensor(obj) or (hasattr(obj, 'data') and torch.is_tensor(obj.data)):\n",
    "            print(type(obj), obj.size())\n",
    "    except: pass"
   ]
  },
  {
   "cell_type": "code",
   "execution_count": null,
   "id": "f3b768b8-222a-4478-b24d-7e874861dcb3",
   "metadata": {},
   "outputs": [],
   "source": [
    "import torch\n",
    "torch.cuda.empty_cache()"
   ]
  },
  {
   "cell_type": "code",
   "execution_count": null,
   "id": "eee2ef20-6e7c-4325-add0-0ab1f4c6a43e",
   "metadata": {},
   "outputs": [],
   "source": [
    "# callbacks = [\n",
    "#     ReduceLROnPlateau(monitor='valid_loss', min_delta=0.1, patience=2),\n",
    "#     EarlyStoppingCallback(monitor='valid_loss', min_delta=0.1, patience=4),\n",
    "#     SaveModelCallback(every_epoch=True)\n",
    "# ]\n",
    "# model.fit_flat_cos(10, slice(lr), cbs=callbacks)"
   ]
  },
  {
   "cell_type": "code",
   "execution_count": null,
   "id": "9aa6353d-a65d-4437-aa7e-dcf034ae9d43",
   "metadata": {},
   "outputs": [],
   "source": [
    "input_path = Path(dfu_dataset_path) / \"test\" / \"images\" / \"1014.png\""
   ]
  },
  {
   "cell_type": "code",
   "execution_count": null,
   "id": "543b6bbb-ebf4-4d46-a03e-61af4e66aa74",
   "metadata": {},
   "outputs": [],
   "source": [
    "pred = predict(input_path, model)"
   ]
  },
  {
   "cell_type": "code",
   "execution_count": null,
   "id": "af020353-de47-4d4a-8c76-8665a2bcc298",
   "metadata": {},
   "outputs": [],
   "source": [
    "plot_all(input_path, pred)"
   ]
  },
  {
   "cell_type": "code",
   "execution_count": null,
   "id": "94dc1081-3482-41a6-aab3-6d6df0282e8a",
   "metadata": {},
   "outputs": [],
   "source": [
    "model.save(f\"{x.name}\")"
   ]
  },
  {
   "cell_type": "code",
   "execution_count": null,
   "id": "908302a4-ec05-4653-9b4f-1885baece7b8",
   "metadata": {},
   "outputs": [],
   "source": []
  }
 ],
 "metadata": {
  "kernelspec": {
   "display_name": "Python 3 (ipykernel)",
   "language": "python",
   "name": "python3"
  },
  "language_info": {
   "codemirror_mode": {
    "name": "ipython",
    "version": 3
   },
   "file_extension": ".py",
   "mimetype": "text/x-python",
   "name": "python",
   "nbconvert_exporter": "python",
   "pygments_lexer": "ipython3",
   "version": "3.9.13"
  }
 },
 "nbformat": 4,
 "nbformat_minor": 5
}
