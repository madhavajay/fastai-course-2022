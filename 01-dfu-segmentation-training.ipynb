{
 "cells": [
  {
   "cell_type": "code",
   "execution_count": 1,
   "id": "b3e03111-50f1-4bad-b2d0-234c6c90c9eb",
   "metadata": {},
   "outputs": [],
   "source": [
    "# Diabetic Foot Ulcer Segmentation"
   ]
  },
  {
   "cell_type": "code",
   "execution_count": 2,
   "id": "15ca1954",
   "metadata": {},
   "outputs": [],
   "source": [
    "# lets get the data from here:\n",
    "# https://github.com/uwm-bigdata/wound-segmentation/tree/master/data/Foot%20Ulcer%20Segmentation%20Challenge"
   ]
  },
  {
   "cell_type": "code",
   "execution_count": 3,
   "id": "a1a7f541",
   "metadata": {},
   "outputs": [],
   "source": [
    "import os\n",
    "from dataclasses import dataclass\n",
    "from datetime import datetime\n",
    "from pathlib import Path\n",
    "from typing import Any, Callable, KeysView, List, Optional, Tuple, Union\n",
    "\n",
    "import git\n",
    "import matplotlib.pyplot as plt\n",
    "import numpy as np\n",
    "import PIL\n",
    "from PIL.Image import Image\n",
    "import torch as th\n",
    "import torchvision\n",
    "\n",
    "from fastai.callback.progress import ProgressCallback\n",
    "from fastai.callback.schedule import lr_find, slide, valley\n",
    "from fastai.data.block import DataBlock\n",
    "from fastai.data.core import DataLoaders\n",
    "from fastai.data.transforms import FuncSplitter, IntToFloatTensor, get_image_files\n",
    "from fastai.layers import Mish\n",
    "from fastai.learner import Learner\n",
    "from fastai.metrics import Dice\n",
    "from fastai.optimizer import ranger\n",
    "from fastai.vision.augment import aug_transforms\n",
    "from fastai.vision.data import ImageBlock, MaskBlock\n",
    "from fastai.vision.learner import unet_learner"
   ]
  },
  {
   "cell_type": "code",
   "execution_count": 4,
   "id": "0e67bb66",
   "metadata": {},
   "outputs": [],
   "source": [
    "def download_data(data_dir):\n",
    "    git.Git(data_dir).clone(\"https://github.com/uwm-bigdata/wound-segmentation\")"
   ]
  },
  {
   "cell_type": "code",
   "execution_count": 5,
   "id": "0700fd3f",
   "metadata": {},
   "outputs": [],
   "source": [
    "def get_data_dir() -> Path:\n",
    "    data_dir = Path(\"../data\")\n",
    "\n",
    "    if not os.path.exists(data_dir):\n",
    "        os.makedirs(data_dir, exist_ok=True)\n",
    "    \n",
    "    if \"wound-segmentation\" not in os.listdir(data_dir):\n",
    "        download_data(data_dir)\n",
    "        \n",
    "    dfu_dataset_path = data_dir / \"wound-segmentation\" / \"data\" / \"Foot Ulcer Segmentation Challenge\"\n",
    "    return dfu_dataset_path"
   ]
  },
  {
   "cell_type": "code",
   "execution_count": 6,
   "id": "ea5839af",
   "metadata": {},
   "outputs": [],
   "source": [
    "def get_all_data(dfu_dataset_path: str) -> Callable:\n",
    "    train_path = dfu_dataset_path / \"train\"\n",
    "    train_image_path = train_path / \"images\"\n",
    "    val_path = dfu_dataset_path / \"validation\"\n",
    "    val_image_path = val_path / \"images\"\n",
    "    train_images = get_image_files(train_image_path)\n",
    "    val_images = get_image_files(val_image_path)\n",
    "    trainval = train_images + val_images\n",
    "    def all_data(path) -> List[Path]:\n",
    "        return trainval\n",
    "    return all_data"
   ]
  },
  {
   "cell_type": "code",
   "execution_count": 7,
   "id": "23aa29a2",
   "metadata": {},
   "outputs": [],
   "source": [
    "def get_datablock(codes: List[str], get_data: Callable, batch_tfms: Optional[List] = None) -> DataBlock:\n",
    "    def is_valid() -> Callable:\n",
    "        def _func(x): return \"/validation/\" in str(x)\n",
    "        def _inner(o, **kwargs): return FuncSplitter(_func)(o)\n",
    "        return _inner\n",
    "    \n",
    "    get_msk = lambda o: o.parent.parent / 'labels' / f'{o.stem}{o.suffix}'\n",
    "\n",
    "    transforms = list(batch_tfms) if batch_tfms else []\n",
    "    transforms.append(IntToFloatTensor(div_mask=255))\n",
    "                               \n",
    "    return DataBlock(\n",
    "        blocks=(ImageBlock, MaskBlock(codes)),\n",
    "        get_items=get_data,\n",
    "        splitter=is_valid(),\n",
    "        get_y=get_msk,\n",
    "        batch_tfms=transforms\n",
    "    )"
   ]
  },
  {
   "cell_type": "code",
   "execution_count": 8,
   "id": "87d044cf",
   "metadata": {},
   "outputs": [],
   "source": [
    "def get_dataloader(codes: List[str], datablock: DataBlock, batch_size: int = 1) -> DataLoaders:\n",
    "    datablock = datablock.dataloaders(None, bs=batch_size)\n",
    "    datablock.vocab = codes\n",
    "    return datablock"
   ]
  },
  {
   "cell_type": "code",
   "execution_count": 9,
   "id": "7ed92482",
   "metadata": {},
   "outputs": [],
   "source": [
    "def get_learner(dataloader: DataLoaders, backbone: Union[str, Callable], metrics: Optional[List] = None,\n",
    "                weights_path: Optional[str] = None, optimizer: Optional[Callable] = None):\n",
    "    learner = unet_learner(dataloader, backbone, metrics=metrics, self_attention=True, act_cls=Mish, opt_func=optimizer)\n",
    "    if weights_path:\n",
    "        learner.load(weights_path)\n",
    "    return learner"
   ]
  },
  {
   "cell_type": "code",
   "execution_count": 10,
   "id": "f3323b44",
   "metadata": {},
   "outputs": [],
   "source": [
    "def decode_preds(preds) -> np.ndarray:\n",
    "    pred = preds[0][0]\n",
    "    pred_arx = pred.argmax(dim=0)\n",
    "    image = (pred_arx.numpy() * 255).astype(np.uint8)\n",
    "    return image"
   ]
  },
  {
   "cell_type": "code",
   "execution_count": 11,
   "id": "88eae46c",
   "metadata": {},
   "outputs": [],
   "source": [
    "def predict(image_path, learner) -> np.ndarray:\n",
    "    dl = learner.dls.test_dl([image_path])\n",
    "    preds = learner.get_preds(dl=dl)\n",
    "    return decode_preds(preds)"
   ]
  },
  {
   "cell_type": "code",
   "execution_count": 12,
   "id": "ef32e150-4a9f-4536-83f6-e2013dc21dc5",
   "metadata": {},
   "outputs": [],
   "source": [
    "def load_model_inference(data: Callable, backbone: Union[str, Callable], weights_path: str, **kwargs) -> Learner:\n",
    "    return load_model(data=data, backbone=backbone, weights_path=weights_path)"
   ]
  },
  {
   "cell_type": "code",
   "execution_count": 13,
   "id": "d90fbb02-0642-44c7-b6ee-523ccdd70c38",
   "metadata": {},
   "outputs": [],
   "source": [
    "def load_model_training(data: Callable, batch_size: int, backbone: Union[str, Callable], metrics: List, optimizer: Callable,\n",
    "                        batch_tfms: Optional[List] = None, weights_path: Optional[str] = None, **kwargs) -> Learner:\n",
    "    return load_model(data=data, backbone=backbone, metrics=metrics, optimizer=optimizer, weights_path=weights_path)"
   ]
  },
  {
   "cell_type": "code",
   "execution_count": 14,
   "id": "f59e3444",
   "metadata": {},
   "outputs": [],
   "source": [
    "def load_model(data: Callable, batch_size: int = 1, backbone = Union[str, Callable], metrics: Optional[List] = None,\n",
    "               optimizer: Optional[Callable] = None, weights_path: Optional[str] = None, batch_tfms: Optional[List] = None) -> Learner:\n",
    "    codes = [\"Void\", \"Wound\"]\n",
    "    datablock = get_datablock(codes=codes, get_data=data, batch_tfms=batch_tfms)\n",
    "    dataloader = get_dataloader(codes=codes, datablock=datablock, batch_size=batch_size)\n",
    "    model = get_learner(dataloader=dataloader, backbone=backbone, metrics=metrics, weights_path=weights_path, optimizer=optimizer)\n",
    "    return model"
   ]
  },
  {
   "cell_type": "code",
   "execution_count": 15,
   "id": "c46ce4ac",
   "metadata": {},
   "outputs": [],
   "source": [
    "def load_image(path: Union[os.PathLike, Any]) -> Any:\n",
    "    if isinstance(path, Image):\n",
    "        return path\n",
    "    elif isinstance(path, os.PathLike):\n",
    "        img = PIL.Image.open(path)\n",
    "    else:\n",
    "        img = PIL.Image.fromarray(path)\n",
    "\n",
    "    return img.convert(\"RGBA\")"
   ]
  },
  {
   "cell_type": "code",
   "execution_count": 16,
   "id": "d04e4f12",
   "metadata": {},
   "outputs": [],
   "source": [
    "def plot_all(source: Union[str, Image], mask: Image):\n",
    "    source_img = load_image(source)\n",
    "    mask_img = load_image(mask)\n",
    "    combined = PIL.ImageChops.multiply(source_img, mask_img)\n",
    "    f, axarr = plt.subplots(1,3, figsize=(20,20))\n",
    "    axarr[0].imshow(source_img)\n",
    "    axarr[1].imshow(mask_img)\n",
    "    axarr[2].imshow(combined)\n",
    "    plt.show()"
   ]
  },
  {
   "cell_type": "code",
   "execution_count": 17,
   "id": "6402050f-f218-44f9-9243-c2b341500b72",
   "metadata": {},
   "outputs": [],
   "source": [
    "def get_metrics(void_code: int = 0) -> List:\n",
    "    def acc_dfu(inp, targ):\n",
    "        targ = targ.squeeze(1)\n",
    "        mask = targ != void_code\n",
    "        result = (inp.argmax(dim=1)[mask]==targ[mask]).float().mean()\n",
    "        return result.nan_to_num()\n",
    "    return [acc_dfu, Dice]"
   ]
  },
  {
   "cell_type": "code",
   "execution_count": 18,
   "id": "e17bd326-9938-48ac-a6dc-dea726160dc6",
   "metadata": {},
   "outputs": [],
   "source": [
    "@dataclass\n",
    "class Experiment:\n",
    "    data: Callable\n",
    "    backbone: Union[str, Callable]\n",
    "    optimizer: Callable\n",
    "    weights_path: Optional[str]\n",
    "    input_size: int\n",
    "    batch_size: int\n",
    "    batch_tfms: List\n",
    "    metrics: List[Callable]\n",
    "\n",
    "    @property\n",
    "    def name(self) -> str:\n",
    "        return f\"{self.today}-{self.backbone.__name__}-{self.input_size}-{self.optimizer.__name__}\"\n",
    "    \n",
    "    @property\n",
    "    def today(self) -> str:\n",
    "        return datetime.today().strftime('%Y-%m-%d')\n",
    "    \n",
    "    # allows splatting with **payload\n",
    "    def keys(self) -> KeysView[str]:\n",
    "        return self.__dict__.keys()\n",
    "\n",
    "    # allows splatting with **payload\n",
    "    def __getitem__(self, key: str) -> Any:\n",
    "        return self.__dict__.__getitem__(key)"
   ]
  },
  {
   "cell_type": "code",
   "execution_count": 19,
   "id": "865c450b",
   "metadata": {},
   "outputs": [],
   "source": [
    "dfu_dataset_path = get_data_dir()"
   ]
  },
  {
   "cell_type": "code",
   "execution_count": 20,
   "id": "a437eb70-7018-4506-918d-be85943426b9",
   "metadata": {},
   "outputs": [],
   "source": [
    "experiment = {}\n",
    "experiment[\"data\"] = get_all_data(dfu_dataset_path=dfu_dataset_path)\n",
    "experiment[\"metrics\"] = get_metrics()\n",
    "experiment[\"backbone\"] = torchvision.models.resnet.resnet34\n",
    "experiment[\"optimizer\"] = ranger\n",
    "experiment[\"weights_path\"] = None # fresh finetuning\n",
    "experiment[\"input_size\"] = 256 # images are 512\n",
    "experiment[\"batch_size\"] = 64\n",
    "experiment[\"batch_tfms\"] = [\n",
    "    aug_transforms(size=(experiment[\"input_size\"], experiment[\"input_size\"]))\n",
    "] # faster iterations"
   ]
  },
  {
   "cell_type": "code",
   "execution_count": 21,
   "id": "f5891434-9bcf-43e6-9a59-f92015dbc623",
   "metadata": {},
   "outputs": [
    {
     "name": "stdout",
     "output_type": "stream",
     "text": [
      "Preparing Experiment: 2022-06-26-resnet34-256-ranger\n"
     ]
    },
    {
     "name": "stderr",
     "output_type": "stream",
     "text": [
      "/home/madhavajay/fastai-course-2022/.venv/lib/python3.10/site-packages/torch/_tensor.py:1142: UserWarning: __floordiv__ is deprecated, and its behavior will change in a future version of pytorch. It currently rounds toward 0 (like the 'trunc' function NOT 'floor'). This results in incorrect rounding for negative values. To keep the current behavior, use torch.div(a, b, rounding_mode='trunc'), or for actual floor division, use torch.div(a, b, rounding_mode='floor').\n",
      "  ret = func(*args, **kwargs)\n"
     ]
    }
   ],
   "source": [
    "x = Experiment(**experiment)\n",
    "print(f\"Preparing Experiment: {x.name}\")\n",
    "model = load_model_training(**x)"
   ]
  },
  {
   "cell_type": "code",
   "execution_count": 22,
   "id": "00ab0228-6dfa-45f6-abf1-712b01eba037",
   "metadata": {},
   "outputs": [
    {
     "data": {
      "text/html": [
       "\n",
       "<style>\n",
       "    /* Turns off some styling */\n",
       "    progress {\n",
       "        /* gets rid of default border in Firefox and Opera. */\n",
       "        border: none;\n",
       "        /* Needs to be in here for Safari polyfill so background images work as expected. */\n",
       "        background-size: auto;\n",
       "    }\n",
       "    .progress-bar-interrupted, .progress-bar-interrupted::-webkit-progress-bar {\n",
       "        background: #F44336;\n",
       "    }\n",
       "</style>\n"
      ],
      "text/plain": [
       "<IPython.core.display.HTML object>"
      ]
     },
     "metadata": {},
     "output_type": "display_data"
    },
    {
     "data": {
      "text/html": [],
      "text/plain": [
       "<IPython.core.display.HTML object>"
      ]
     },
     "metadata": {},
     "output_type": "display_data"
    },
    {
     "data": {
      "text/plain": [
       "SuggestedLRs(valley=0.0003311311302240938, slide=0.0010000000474974513)"
      ]
     },
     "execution_count": 22,
     "metadata": {},
     "output_type": "execute_result"
    },
    {
     "data": {
      "image/png": "[encoded data removed]",
      "text/plain": [
       "<Figure size 432x288 with 1 Axes>"
      ]
     },
     "metadata": {
      "needs_background": "light"
     },
     "output_type": "display_data"
    }
   ],
   "source": [
    "model.lr_find(suggest_funcs=(valley, slide))"
   ]
  },
  {
   "cell_type": "code",
   "execution_count": 27,
   "id": "227b2183-6a2e-404c-be34-d962b71cbdc7",
   "metadata": {},
   "outputs": [],
   "source": [
    "lr = 1e-3"
   ]
  },
  {
   "cell_type": "code",
   "execution_count": 28,
   "id": "50032214-7215-4767-9199-6d9f076ba469",
   "metadata": {},
   "outputs": [
    {
     "data": {
      "text/html": [
       "\n",
       "<style>\n",
       "    /* Turns off some styling */\n",
       "    progress {\n",
       "        /* gets rid of default border in Firefox and Opera. */\n",
       "        border: none;\n",
       "        /* Needs to be in here for Safari polyfill so background images work as expected. */\n",
       "        background-size: auto;\n",
       "    }\n",
       "    .progress-bar-interrupted, .progress-bar-interrupted::-webkit-progress-bar {\n",
       "        background: #F44336;\n",
       "    }\n",
       "</style>\n"
      ],
      "text/plain": [
       "<IPython.core.display.HTML object>"
      ]
     },
     "metadata": {},
     "output_type": "display_data"
    },
    {
     "data": {
      "text/html": [
       "<table border=\"1\" class=\"dataframe\">\n",
       "  <thead>\n",
       "    <tr style=\"text-align: left;\">\n",
       "      <th>epoch</th>\n",
       "      <th>train_loss</th>\n",
       "      <th>valid_loss</th>\n",
       "      <th>acc_dfu</th>\n",
       "      <th>dice</th>\n",
       "      <th>time</th>\n",
       "    </tr>\n",
       "  </thead>\n",
       "  <tbody>\n",
       "    <tr>\n",
       "      <td>0</td>\n",
       "      <td>0.015635</td>\n",
       "      <td>0.012168</td>\n",
       "      <td>0.735697</td>\n",
       "      <td>0.808634</td>\n",
       "      <td>03:24</td>\n",
       "    </tr>\n",
       "  </tbody>\n",
       "</table>"
      ],
      "text/plain": [
       "<IPython.core.display.HTML object>"
      ]
     },
     "metadata": {},
     "output_type": "display_data"
    }
   ],
   "source": [
    "model.fit_flat_cos(1, slice(lr))"
   ]
  },
  {
   "cell_type": "code",
   "execution_count": null,
   "id": "9ceafdd5-a021-47e9-a666-e4645c04302b",
   "metadata": {},
   "outputs": [],
   "source": [
    "model.fit_flat_cos(3, slice(lr))"
   ]
  },
  {
   "cell_type": "code",
   "execution_count": null,
   "id": "9aa6353d-a65d-4437-aa7e-dcf034ae9d43",
   "metadata": {},
   "outputs": [],
   "source": []
  }
 ],
 "metadata": {
  "kernelspec": {
   "display_name": "Python 3 (ipykernel)",
   "language": "python",
   "name": "python3"
  },
  "language_info": {
   "codemirror_mode": {
    "name": "ipython",
    "version": 3
   },
   "file_extension": ".py",
   "mimetype": "text/x-python",
   "name": "python",
   "nbconvert_exporter": "python",
   "pygments_lexer": "ipython3",
   "version": "3.10.4"
  }
 },
 "nbformat": 4,
 "nbformat_minor": 5
}
