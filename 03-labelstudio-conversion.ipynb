{
 "cells": [
  {
   "cell_type": "code",
   "execution_count": 1,
   "id": "38c5a3f9",
   "metadata": {},
   "outputs": [],
   "source": [
    "# convert mask images to label studio format"
   ]
  },
  {
   "cell_type": "code",
   "execution_count": 2,
   "id": "ace01f62",
   "metadata": {},
   "outputs": [],
   "source": [
    "#!pip install -U label-studio-converter"
   ]
  },
  {
   "cell_type": "code",
   "execution_count": 3,
   "id": "36f43381",
   "metadata": {},
   "outputs": [
    {
     "name": "stdout",
     "output_type": "stream",
     "text": [
      "No module named 'lxml'\n"
     ]
    }
   ],
   "source": [
    "from label_studio_converter import brush"
   ]
  },
  {
   "cell_type": "code",
   "execution_count": 4,
   "id": "3b919c55",
   "metadata": {},
   "outputs": [],
   "source": [
    "from typing import Union, List, Callable\n",
    "import numpy as np\n",
    "import os\n",
    "from pathlib import Path\n",
    "import git\n",
    "import json"
   ]
  },
  {
   "cell_type": "code",
   "execution_count": 5,
   "id": "6a6dd6b3",
   "metadata": {},
   "outputs": [],
   "source": [
    "def download_data(data_dir):\n",
    "    git.Git(data_dir).clone(\"https://github.com/uwm-bigdata/wound-segmentation\")"
   ]
  },
  {
   "cell_type": "code",
   "execution_count": 6,
   "id": "b4645010",
   "metadata": {},
   "outputs": [],
   "source": [
    "def get_data_dir() -> Path:\n",
    "    data_dir = Path(\"../data\")\n",
    "\n",
    "    if not os.path.exists(data_dir):\n",
    "        os.makedirs(data_dir, exist_ok=True)\n",
    "    \n",
    "    if \"wound-segmentation\" not in os.listdir(data_dir):\n",
    "        download_data()\n",
    "        \n",
    "    dfu_dataset_path = data_dir / \"wound-segmentation\" / \"data\" / \"Foot Ulcer Segmentation Challenge\"\n",
    "    return dfu_dataset_path"
   ]
  },
  {
   "cell_type": "code",
   "execution_count": 7,
   "id": "b18dffac",
   "metadata": {},
   "outputs": [],
   "source": [
    "# local_dir = os.path.abspath(os.path.expanduser(\"~/dev/foothold/labelling/data\"))\n",
    "dfu_dataset_path = get_data_dir()"
   ]
  },
  {
   "cell_type": "code",
   "execution_count": 8,
   "id": "93f0430e",
   "metadata": {},
   "outputs": [
    {
     "data": {
      "text/plain": [
       "PosixPath('../data/wound-segmentation/data/Foot Ulcer Segmentation Challenge')"
      ]
     },
     "execution_count": 8,
     "metadata": {},
     "output_type": "execute_result"
    }
   ],
   "source": [
    "dfu_dataset_path"
   ]
  },
  {
   "cell_type": "code",
   "execution_count": 9,
   "id": "86811d28",
   "metadata": {},
   "outputs": [],
   "source": [
    "web_path = \"https://raw.githubusercontent.com/uwm-bigdata/wound-segmentation/master/data/Foot%20Ulcer%20Segmentation%20Challenge\""
   ]
  },
  {
   "cell_type": "code",
   "execution_count": 10,
   "id": "a35215e0",
   "metadata": {},
   "outputs": [],
   "source": [
    "def image_to_annotated_dict(image_path, mask_path):\n",
    "    image_path = os.path.abspath(image_path)\n",
    "    annotations = []\n",
    "    if mask_path:\n",
    "        mask_path = os.path.abspath(mask_path)\n",
    "        annotations_dict = brush.image2annotation(\n",
    "            mask_path,\n",
    "            \"Wound\",\n",
    "            \"tag\",\n",
    "            \"image\",\n",
    "            ground_truth=True,\n",
    "            model_version=None,\n",
    "            score=None\n",
    "        )\n",
    "        annotations.append(annotations_dict)\n",
    "    task = {\n",
    "        'data': {'image': str(image_path).replace(os.path.abspath(dfu_dataset_path), web_path)},\n",
    "        'predictions': annotations\n",
    "    }\n",
    "    return task"
   ]
  },
  {
   "cell_type": "code",
   "execution_count": 13,
   "id": "51192559",
   "metadata": {},
   "outputs": [],
   "source": [
    "image_path = Path(dfu_dataset_path) / \"train\" / \"images\" / \"0011.png\"\n",
    "mask_path = Path(dfu_dataset_path) / \"train\" / \"labels\" / \"0011.png\""
   ]
  },
  {
   "cell_type": "code",
   "execution_count": 14,
   "id": "1cdc65ee",
   "metadata": {},
   "outputs": [],
   "source": [
    "task = image_to_annotated_dict(image_path, mask_path)"
   ]
  },
  {
   "cell_type": "code",
   "execution_count": 15,
   "id": "47321fc5",
   "metadata": {},
   "outputs": [],
   "source": [
    "get_msk = lambda o: o.parent.parent / 'labels' / f'{o.stem}{o.suffix}'"
   ]
  },
  {
   "cell_type": "code",
   "execution_count": 49,
   "id": "bece0e27",
   "metadata": {},
   "outputs": [],
   "source": [
    "tasks = []\n",
    "path = dfu_dataset_path / \"train\" / \"images\"\n",
    "for image in os.listdir(path):\n",
    "    image_path = Path(path) / image\n",
    "    mask_path = get_msk(image_path)\n",
    "    task = image_to_annotated_dict(image_path, mask_path)\n",
    "    tasks.append(task)"
   ]
  },
  {
   "cell_type": "code",
   "execution_count": 50,
   "id": "a21ea04d",
   "metadata": {},
   "outputs": [],
   "source": [
    "with open(\"./train.json\", \"w\") as f:\n",
    "    f.write(json.dumps(tasks))"
   ]
  },
  {
   "cell_type": "code",
   "execution_count": 53,
   "id": "3ec738be",
   "metadata": {},
   "outputs": [],
   "source": [
    "tasks = []\n",
    "path = dfu_dataset_path / \"validation\" / \"images\"\n",
    "for image in os.listdir(path):\n",
    "    image_path = Path(path) / image\n",
    "    mask_path = get_msk(image_path)\n",
    "    task = image_to_annotated_dict(image_path, mask_path)\n",
    "    tasks.append(task)"
   ]
  },
  {
   "cell_type": "code",
   "execution_count": 54,
   "id": "53e9c650",
   "metadata": {},
   "outputs": [],
   "source": [
    "with open(\"./validation.json\", \"w\") as f:\n",
    "    f.write(json.dumps(tasks))"
   ]
  },
  {
   "cell_type": "code",
   "execution_count": 58,
   "id": "4c71570f",
   "metadata": {},
   "outputs": [],
   "source": [
    "tasks = []\n",
    "path = dfu_dataset_path / \"test\" / \"images\"\n",
    "for image in os.listdir(path):\n",
    "    image_path = Path(path) / image\n",
    "    mask_path = None\n",
    "    task = image_to_annotated_dict(image_path, mask_path)\n",
    "    tasks.append(task)"
   ]
  },
  {
   "cell_type": "code",
   "execution_count": 59,
   "id": "adf350d4",
   "metadata": {},
   "outputs": [],
   "source": [
    "with open(\"./test.json\", \"w\") as f:\n",
    "    f.write(json.dumps(tasks))"
   ]
  },
  {
   "cell_type": "code",
   "execution_count": 16,
   "id": "f59f8698",
   "metadata": {},
   "outputs": [],
   "source": [
    "# machine test labels"
   ]
  },
  {
   "cell_type": "code",
   "execution_count": 17,
   "id": "ee0f4f0d",
   "metadata": {},
   "outputs": [],
   "source": [
    "tasks = []\n",
    "path = dfu_dataset_path / \"test\" / \"images\"\n",
    "for image in os.listdir(path):\n",
    "    image_path = Path(path) / image\n",
    "    mask_path = get_msk(image_path)\n",
    "    task = image_to_annotated_dict(image_path, mask_path)\n",
    "    tasks.append(task)"
   ]
  },
  {
   "cell_type": "code",
   "execution_count": 18,
   "id": "2666a5e5",
   "metadata": {},
   "outputs": [],
   "source": [
    "with open(\"./test_machine.json\", \"w\") as f:\n",
    "    f.write(json.dumps(tasks))"
   ]
  },
  {
   "cell_type": "code",
   "execution_count": null,
   "id": "b52ff9f9",
   "metadata": {},
   "outputs": [],
   "source": []
  }
 ],
 "metadata": {
  "kernelspec": {
   "display_name": "Python 3 (ipykernel)",
   "language": "python",
   "name": "python3"
  },
  "language_info": {
   "codemirror_mode": {
    "name": "ipython",
    "version": 3
   },
   "file_extension": ".py",
   "mimetype": "text/x-python",
   "name": "python",
   "nbconvert_exporter": "python",
   "pygments_lexer": "ipython3",
   "version": "3.9.13"
  }
 },
 "nbformat": 4,
 "nbformat_minor": 5
}
